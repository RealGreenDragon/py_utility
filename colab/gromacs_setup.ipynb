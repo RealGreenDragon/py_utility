{
  "nbformat": 4,
  "nbformat_minor": 0,
  "metadata": {
    "colab": {
      "name": "gromacs_setup.ipynb",
      "provenance": [],
      "collapsed_sections": [],
      "toc_visible": true
    },
    "kernelspec": {
      "name": "python3",
      "display_name": "Python 3"
    },
    "accelerator": "GPU"
  },
  "cells": [
    {
      "cell_type": "markdown",
      "metadata": {
        "id": "xP2Ncw95cnhd"
      },
      "source": [
        "#Install GROMACS and backup it on Google Drive"
      ]
    },
    {
      "cell_type": "markdown",
      "metadata": {
        "id": "hxiQyIklcqBL"
      },
      "source": [
        "This notebook execute the following operations:\n",
        "1. Compilation of the GROMCS software during a Google Colab session\n",
        "2. Backing up the compiled software into your Google Drive\n",
        "\n",
        "Using the backed-up software, you does not need to recompile it.\n",
        "\n",
        "Inspired by IBM3202 notebooks: https://github.com/pb3lab/ibm3202"
      ]
    },
    {
      "cell_type": "markdown",
      "metadata": {
        "id": "ziB3PlAv4L1j"
      },
      "source": [
        "#**Before we start...**"
      ]
    },
    {
      "cell_type": "markdown",
      "metadata": {
        "id": "JLKacsWs4Q9s"
      },
      "source": [
        "##**1. Copy this notebook to your Drive, otherwise the installation will not work**"
      ]
    },
    {
      "cell_type": "markdown",
      "metadata": {
        "id": "u4I7_iY44k7u"
      },
      "source": [
        "You can do this by clicking on the **Save a Copy to Drive** option on the **File** menu."
      ]
    },
    {
      "cell_type": "markdown",
      "metadata": {
        "id": "5GZG25iO5RKK"
      },
      "source": [
        "##**2. Watch out for idle timeouts on Google Colab**"
      ]
    },
    {
      "cell_type": "markdown",
      "metadata": {
        "id": "3cY_lHTO5Yt_"
      },
      "source": [
        "To be able to offer free computational resources on the cloud, Colab has **idle timeouts** that disconnect the runtime session if left unattended for too long and **maximum lifetimes**. While the maximum lifetime on a standard Google Colab runtime can be as much as 12 hours, the **idle timeouts vary over time**. \n",
        "\n",
        "Thus, is is imperative that you keep an eye on your software installation every 10-15 min to avoid idle timeouts that would interrupt the whole process."
      ]
    },
    {
      "cell_type": "markdown",
      "metadata": {
        "id": "rlsmm3KC8Lbu"
      },
      "source": [
        "##**3. Where is the installed software located after backing up on Google Drive?**"
      ]
    },
    {
      "cell_type": "markdown",
      "metadata": {
        "id": "T_A6kNMy8a8T"
      },
      "source": [
        "All installed software will be located in a new **Gromacs** folder in your Google Drive account."
      ]
    },
    {
      "cell_type": "markdown",
      "source": [
        "# Runtime setup and environment check\n",
        "\n"
      ],
      "metadata": {
        "id": "nvam1FsUps46"
      }
    },
    {
      "cell_type": "markdown",
      "metadata": {
        "id": "Omu82WkWf-vH"
      },
      "source": [
        "**VERY IMPORTANT FIRST STEP:** Go To *Runtime* -> *Change Runtime Type* and select GPU!"
      ]
    },
    {
      "cell_type": "markdown",
      "source": [
        "We will first check the Google Colab resources and CMake version."
      ],
      "metadata": {
        "id": "uYyLEGhYpN4I"
      }
    },
    {
      "cell_type": "code",
      "source": [
        "# Check the Google Colab resources and CMake version\n",
        "# Must be: 1 GPU and 2 CPU with 12GB RAM and at least 30 GB available on root filesystem\n",
        "%%bash\n",
        "echo -e \"# CPU Details\"\n",
        "lscpu\n",
        "echo -e \"\\n# RAM Details\"\n",
        "free -h\n",
        "echo -e \"\\n# NVIDIA Details\"\n",
        "nvidia-smi\n",
        "echo -e \"\\n# CMake Details\"\n",
        "cmake --version\n",
        "echo -e \"\\n# Filesystems Details\"\n",
        "df -h\n",
        "echo -e \"\\n# Current Working Directory\"\n",
        "pwd"
      ],
      "metadata": {
        "colab": {
          "base_uri": "https://localhost:8080/"
        },
        "id": "XXqlfXkWp2iM",
        "outputId": "32caf0bc-8c64-4bb5-b9cd-3a1cc4291fed"
      },
      "execution_count": 1,
      "outputs": [
        {
          "output_type": "stream",
          "name": "stdout",
          "text": [
            "# CPU Details\n",
            "Architecture:        x86_64\n",
            "CPU op-mode(s):      32-bit, 64-bit\n",
            "Byte Order:          Little Endian\n",
            "CPU(s):              2\n",
            "On-line CPU(s) list: 0,1\n",
            "Thread(s) per core:  2\n",
            "Core(s) per socket:  1\n",
            "Socket(s):           1\n",
            "NUMA node(s):        1\n",
            "Vendor ID:           GenuineIntel\n",
            "CPU family:          6\n",
            "Model:               79\n",
            "Model name:          Intel(R) Xeon(R) CPU @ 2.20GHz\n",
            "Stepping:            0\n",
            "CPU MHz:             2199.998\n",
            "BogoMIPS:            4399.99\n",
            "Hypervisor vendor:   KVM\n",
            "Virtualization type: full\n",
            "L1d cache:           32K\n",
            "L1i cache:           32K\n",
            "L2 cache:            256K\n",
            "L3 cache:            56320K\n",
            "NUMA node0 CPU(s):   0,1\n",
            "Flags:               fpu vme de pse tsc msr pae mce cx8 apic sep mtrr pge mca cmov pat pse36 clflush mmx fxsr sse sse2 ss ht syscall nx pdpe1gb rdtscp lm constant_tsc rep_good nopl xtopology nonstop_tsc cpuid tsc_known_freq pni pclmulqdq ssse3 fma cx16 pcid sse4_1 sse4_2 x2apic movbe popcnt aes xsave avx f16c rdrand hypervisor lahf_lm abm 3dnowprefetch invpcid_single ssbd ibrs ibpb stibp fsgsbase tsc_adjust bmi1 hle avx2 smep bmi2 erms invpcid rtm rdseed adx smap xsaveopt arat md_clear arch_capabilities\n",
            "\n",
            "# RAM Details\n",
            "              total        used        free      shared  buff/cache   available\n",
            "Mem:            12G        737M         10G        1.3M        1.9G         11G\n",
            "Swap:            0B          0B          0B\n",
            "\n",
            "# NVIDIA Details\n",
            "Fri Jan 21 17:04:21 2022       \n",
            "+-----------------------------------------------------------------------------+\n",
            "| NVIDIA-SMI 495.46       Driver Version: 460.32.03    CUDA Version: 11.2     |\n",
            "|-------------------------------+----------------------+----------------------+\n",
            "| GPU  Name        Persistence-M| Bus-Id        Disp.A | Volatile Uncorr. ECC |\n",
            "| Fan  Temp  Perf  Pwr:Usage/Cap|         Memory-Usage | GPU-Util  Compute M. |\n",
            "|                               |                      |               MIG M. |\n",
            "|===============================+======================+======================|\n",
            "|   0  Tesla T4            Off  | 00000000:00:04.0 Off |                    0 |\n",
            "| N/A   32C    P8     9W /  70W |      0MiB / 15109MiB |      0%      Default |\n",
            "|                               |                      |                  N/A |\n",
            "+-------------------------------+----------------------+----------------------+\n",
            "                                                                               \n",
            "+-----------------------------------------------------------------------------+\n",
            "| Processes:                                                                  |\n",
            "|  GPU   GI   CI        PID   Type   Process name                  GPU Memory |\n",
            "|        ID   ID                                                   Usage      |\n",
            "|=============================================================================|\n",
            "|  No running processes found                                                 |\n",
            "+-----------------------------------------------------------------------------+\n",
            "\n",
            "# CMake Details\n",
            "cmake version 3.12.0\n",
            "\n",
            "CMake suite maintained and supported by Kitware (kitware.com/cmake).\n",
            "\n",
            "# Filesystems Details\n",
            "Filesystem      Size  Used Avail Use% Mounted on\n",
            "overlay          79G   44G   35G  56% /\n",
            "tmpfs            64M     0   64M   0% /dev\n",
            "shm             5.7G     0  5.7G   0% /dev/shm\n",
            "/dev/root       2.0G  1.2G  817M  59% /sbin/docker-init\n",
            "tmpfs           6.4G   32K  6.4G   1% /var/colab\n",
            "/dev/sda1        86G   47G   40G  55% /opt/bin/.nvidia\n",
            "tmpfs           6.4G     0  6.4G   0% /proc/acpi\n",
            "tmpfs           6.4G     0  6.4G   0% /proc/scsi\n",
            "tmpfs           6.4G     0  6.4G   0% /sys/firmware\n",
            "\n",
            "# Current Working Directory\n",
            "/content\n"
          ]
        }
      ]
    },
    {
      "cell_type": "markdown",
      "source": [
        "# Installation of latest CMake version\n",
        "\n"
      ],
      "metadata": {
        "id": "Kb8od9jkqHz6"
      }
    },
    {
      "cell_type": "markdown",
      "source": [
        "We now install the latest CMake version (as GROMACS 2021 require at least CMake 3.13)."
      ],
      "metadata": {
        "id": "vhVDQxB8q6Ud"
      }
    },
    {
      "cell_type": "code",
      "source": [
        "# Upgrade CMake at latest version via pip\n",
        "!pip install cmake --upgrade"
      ],
      "metadata": {
        "colab": {
          "base_uri": "https://localhost:8080/"
        },
        "id": "vq5BfSavzGK7",
        "outputId": "b5d4c7cf-e92a-461e-b402-1fe365514c08"
      },
      "execution_count": 2,
      "outputs": [
        {
          "output_type": "stream",
          "name": "stdout",
          "text": [
            "Requirement already satisfied: cmake in /usr/local/lib/python3.7/dist-packages (3.12.0)\n",
            "Collecting cmake\n",
            "  Downloading cmake-3.22.1-py2.py3-none-manylinux_2_17_x86_64.manylinux2014_x86_64.whl (22.7 MB)\n",
            "\u001b[K     |████████████████████████████████| 22.7 MB 1.6 MB/s \n",
            "\u001b[?25hInstalling collected packages: cmake\n",
            "  Attempting uninstall: cmake\n",
            "    Found existing installation: cmake 3.12.0\n",
            "    Uninstalling cmake-3.12.0:\n",
            "      Successfully uninstalled cmake-3.12.0\n",
            "Successfully installed cmake-3.22.1\n"
          ]
        }
      ]
    },
    {
      "cell_type": "code",
      "source": [
        "# Check again CMake version\n",
        "%%bash\n",
        "echo \"# CMake Details\"\n",
        "cmake --version"
      ],
      "metadata": {
        "colab": {
          "base_uri": "https://localhost:8080/"
        },
        "id": "lZqqXj2jq7zm",
        "outputId": "66e4ffb8-9b4c-4c08-f7a3-ba1edc80278a"
      },
      "execution_count": 3,
      "outputs": [
        {
          "output_type": "stream",
          "name": "stdout",
          "text": [
            "# CMake Details\n",
            "cmake version 3.22.1\n",
            "\n",
            "CMake suite maintained and supported by Kitware (kitware.com/cmake).\n"
          ]
        }
      ]
    },
    {
      "cell_type": "markdown",
      "metadata": {
        "id": "LOqOqLJ634i9"
      },
      "source": [
        "# Installation of GROMACS"
      ]
    },
    {
      "cell_type": "markdown",
      "metadata": {
        "id": "7Uhf-YJJlS7n"
      },
      "source": [
        "## Downloading and installing GROMACS"
      ]
    },
    {
      "cell_type": "markdown",
      "metadata": {
        "id": "e7rvmRB4nVYM"
      },
      "source": [
        "We now select GROMACS version, download it onto Google Colab, and then install it. The installation takes **~40 min**."
      ]
    },
    {
      "cell_type": "code",
      "source": [
        "# Specify GROMACS version\n",
        "COLAB_GROMACS_VERSION = \"2021.5\"\n",
        "\n",
        "# -------- DOES NOT MODIFY AFTER THIS POINT !!!! --------\n",
        "\n",
        "# Import needed general Python modules\n",
        "import os\n",
        "\n",
        "# Build version-related variables\n",
        "COLAB_GROMACS_DOWNLOAD_LINK = \"https://ftp.gromacs.org/gromacs/gromacs-%s.tar.gz\" % COLAB_GROMACS_VERSION\n",
        "COLAB_GROMACS_ARCHIVE_PATH = \"/content/gromacs_src/gromacs-%s.tar.gz\" % COLAB_GROMACS_VERSION\n",
        "COLAB_GROMACS_SOURCE_PATH = \"/content/gromacs_src/gromacs-%s\" % COLAB_GROMACS_VERSION\n",
        "COLAB_GROMACS_BUILD_PATH = \"/content/gromacs_src/gromacs-%s/build\" % COLAB_GROMACS_VERSION\n",
        "COLAB_GROMACS_INSTALL_PATH = \"/content/gromacs-%s\" % COLAB_GROMACS_VERSION\n",
        "COLAB_GROMACS_ENV_PATH = \"/content/gromacs-%s/bin/GMXRC\" % COLAB_GROMACS_VERSION\n",
        "COLAB_GROMACS_GDRIVE_FS = \"/content/gdrive\"\n",
        "COLAB_GROMACS_GDRIVE_DIR = \"/content/gdrive/My Drive/GROMACS/\"\n",
        "COLAB_GROMACS_GDRIVE_ARCHIVE = \"/content/gdrive/My Drive/GROMACS/gromacs-%s.tar.gz\" % COLAB_GROMACS_VERSION\n",
        "\n",
        "# Print GROMACS version selected\n",
        "print(\"# GROMACS version selected : {COLAB_GROMACS_VERSION}\")\n",
        "\n",
        "# Print GROMACS custom variables\n",
        "print(\"\\n# GROMACS custom variables:\")\n",
        "print(\"- GROMACS download link  : %s\" % COLAB_GROMACS_DOWNLOAD_LINK)\n",
        "print(\"- GROMACS archive path   : %s\" % COLAB_GROMACS_ARCHIVE_PATH)\n",
        "print(\"- GROMACS source path    : %s\" % COLAB_GROMACS_SOURCE_PATH)\n",
        "print(\"- GROMACS build path     : %s\" % COLAB_GROMACS_BUILD_PATH)\n",
        "print(\"- GROMACS install path   : %s\" % COLAB_GROMACS_INSTALL_PATH)\n",
        "print(\"- GROMACS bin env path   : %s\" % COLAB_GROMACS_ENV_PATH)\n",
        "print(\"- GROMACS GDrive fs      : %s\" % COLAB_GROMACS_GDRIVE_FS)\n",
        "print(\"- GROMACS GDrive folder  : %s\" % COLAB_GROMACS_GDRIVE_DIR)\n",
        "print(\"- GROMACS GDrive archive : %s\" % COLAB_GROMACS_GDRIVE_ARCHIVE)\n",
        "\n",
        "# Save variables needed to copile process in temp files\n",
        "!echo {COLAB_GROMACS_VERSION} > /tmp/colab_gromacs_version\n",
        "!echo {COLAB_GROMACS_BUILD_PATH} > /tmp/colab_gromacs_build_path\n",
        "!echo {COLAB_GROMACS_INSTALL_PATH} > /tmp/colab_gromacs_install_path\n",
        "!echo {COLAB_GROMACS_ENV_PATH} > /tmp/colab_gromacs_env_path"
      ],
      "metadata": {
        "colab": {
          "base_uri": "https://localhost:8080/"
        },
        "id": "Avo4kheq0iuy",
        "outputId": "e12daf75-24a4-4d22-c990-58cfcc7b87b0"
      },
      "execution_count": 4,
      "outputs": [
        {
          "output_type": "stream",
          "name": "stdout",
          "text": [
            "# GROMACS version selected : {COLAB_GROMACS_VERSION}\n",
            "\n",
            "# GROMACS custom variables:\n",
            "- GROMACS download link  : https://ftp.gromacs.org/gromacs/gromacs-2021.5.tar.gz\n",
            "- GROMACS archive path   : /content/gromacs_src/gromacs-2021.5.tar.gz\n",
            "- GROMACS source path    : /content/gromacs_src/gromacs-2021.5\n",
            "- GROMACS build path     : /content/gromacs_src/gromacs-2021.5/build\n",
            "- GROMACS install path   : /content/gromacs-2021.5\n",
            "- GROMACS bin env path   : /content/gromacs-2021.5/bin/GMXRC\n",
            "- GROMACS GDrive fs      : /content/gdrive\n",
            "- GROMACS GDrive folder  : /content/gdrive/My Drive/GROMACS/\n",
            "- GROMACS GDrive archive : /content/gdrive/My Drive/GROMACS/gromacs-2021.5.tar.gz\n"
          ]
        }
      ]
    },
    {
      "cell_type": "code",
      "source": [
        "# Downloading GROMACS\n",
        "!mkdir -p $(dirname {COLAB_GROMACS_ARCHIVE_PATH})\n",
        "!wget -O {COLAB_GROMACS_ARCHIVE_PATH} {COLAB_GROMACS_DOWNLOAD_LINK}"
      ],
      "metadata": {
        "colab": {
          "base_uri": "https://localhost:8080/"
        },
        "id": "B0blBwoI0c_t",
        "outputId": "4347883b-5e0a-47ad-e5de-b9373712716a"
      },
      "execution_count": 5,
      "outputs": [
        {
          "output_type": "stream",
          "name": "stdout",
          "text": [
            "--2022-01-21 17:04:31--  https://ftp.gromacs.org/gromacs/gromacs-2021.5.tar.gz\n",
            "Resolving ftp.gromacs.org (ftp.gromacs.org)... 130.237.11.165, 2001:6b0:1:1191:216:3eff:fec7:6e30\n",
            "Connecting to ftp.gromacs.org (ftp.gromacs.org)|130.237.11.165|:443... connected.\n",
            "HTTP request sent, awaiting response... 200 OK\n",
            "Length: 38023772 (36M) [application/x-gzip]\n",
            "Saving to: ‘/content/gromacs_src/gromacs-2021.5.tar.gz’\n",
            "\n",
            "/content/gromacs_sr 100%[===================>]  36.26M  12.9MB/s    in 2.8s    \n",
            "\n",
            "2022-01-21 17:04:35 (12.9 MB/s) - ‘/content/gromacs_src/gromacs-2021.5.tar.gz’ saved [38023772/38023772]\n",
            "\n"
          ]
        }
      ]
    },
    {
      "cell_type": "code",
      "source": [
        "# Extract the downloaded folder containing GROMACS\n",
        "!rm -rf ${COLAB_GROMACS_SOURCE_PATH}\n",
        "os.makedirs(COLAB_GROMACS_SOURCE_PATH, exist_ok=True)\n",
        "!tar xfz {COLAB_GROMACS_ARCHIVE_PATH} -C $(dirname {COLAB_GROMACS_SOURCE_PATH})\n",
        "print(\"# GROMACS extraction completed\")"
      ],
      "metadata": {
        "colab": {
          "base_uri": "https://localhost:8080/"
        },
        "id": "xdddFZexe3vf",
        "outputId": "86671050-ba3d-41c3-f474-a6b5f2aee3ae"
      },
      "execution_count": 6,
      "outputs": [
        {
          "output_type": "stream",
          "name": "stdout",
          "text": [
            "# GROMACS extraction completed\n"
          ]
        }
      ]
    },
    {
      "cell_type": "code",
      "source": [
        "%%bash\n",
        "# Load variables\n",
        "export COLAB_GROMACS_VERSION=$(cat /tmp/colab_gromacs_version)\n",
        "export COLAB_GROMACS_BUILD_PATH=$(cat /tmp/colab_gromacs_build_path)\n",
        "export COLAB_GROMACS_INSTALL_PATH=$(cat /tmp/colab_gromacs_install_path)\n",
        "\n",
        "# Create a \"build\" folder inside the extracted folder (with a cleanup before)\n",
        "rm -rf ${COLAB_GROMACS_BUILD_PATH}\n",
        "mkdir -p ${COLAB_GROMACS_BUILD_PATH}\n",
        "\n",
        "# Setup our GROMACS installation options, including GPU and a user-defined folder\n",
        "cd ${COLAB_GROMACS_BUILD_PATH}\n",
        "if [[ ${COLAB_GROMACS_VERSION} = 2020.* ]]\n",
        "then\n",
        "  cmake .. -DGMX_BUILD_OWN_FFTW=ON -DGMX_GPU=on -DCMAKE_INSTALL_PREFIX=${COLAB_GROMACS_INSTALL_PATH}\n",
        "  RETURNCODE=$?\n",
        "elif [[ ${COLAB_GROMACS_VERSION} = 2021.* ]]\n",
        "then\n",
        "  cmake .. -DGMX_BUILD_OWN_FFTW=ON -DGMX_GPU=CUDA -DCMAKE_INSTALL_PREFIX=${COLAB_GROMACS_INSTALL_PATH}\n",
        "  RETURNCODE=$?\n",
        "else\n",
        "  echo \"Unsupported GROMACS version: ${COLAB_GROMACS_VERSION}\"\n",
        "  exit 1\n",
        "fi\n",
        "[[ ${RETURNCODE} != 0 ]] && echo \"# GROMACS CMake failed\" && exit 1\n",
        "echo -e \"# GROMACS CMake set up completed\\n\"\n",
        "\n",
        "# Compile GROMACS and install it inside the user-defined folder\n",
        "make -j 2\n",
        "[[ $? != 0 ]] && echo \"# GROMACS building failed\" && exit 1\n",
        "echo -e \"# GROMACS building completed\\n\"\n",
        "make -j 2 check\n",
        "[[ $? != 0 ]] && echo \"# GROMACS testing failed\" && exit 1\n",
        "echo -e \"# GROMACS testing completed\\n\"\n",
        "make -j 2 install\n",
        "[[ $? != 0 ]] && echo \"# GROMACS installation failed\" && exit 1\n",
        "echo -e \"# GROMACS installation completed. Please check if any errors occurred during installation\""
      ],
      "metadata": {
        "id": "AwTS_LVqX4nX"
      },
      "execution_count": null,
      "outputs": []
    },
    {
      "cell_type": "markdown",
      "metadata": {
        "id": "Iji7m0TCmZJJ"
      },
      "source": [
        "We now check that the installation was successful by loading the GROMACS PATH onto Google Colab."
      ]
    },
    {
      "cell_type": "code",
      "metadata": {
        "id": "aFiV-Fsi0nCq"
      },
      "source": [
        "# Checking that GROMACS was successfully installed\n",
        "%%bash\n",
        "export COLAB_GROMACS_ENV_PATH=$(cat /tmp/colab_gromacs_env_path)\n",
        "source ${COLAB_GROMACS_ENV_PATH}\n",
        "gmx -h"
      ],
      "execution_count": null,
      "outputs": []
    },
    {
      "cell_type": "markdown",
      "metadata": {
        "id": "CBJ2ZDEhlKtO"
      },
      "source": [
        "##Backing up GROMACS on Google Drive"
      ]
    },
    {
      "cell_type": "markdown",
      "metadata": {
        "id": "-6_wBK035ZW_"
      },
      "source": [
        "Once GROMACS is successfully compiled and installed on Google Colab, you can **save a back up** of GROMACS into your **Google Drive**. To do this, we first need to **Mount** your Google Drive into Google Colab to be able to transfer files, followed by backing up your GROMACS installation for future use, as follows:"
      ]
    },
    {
      "cell_type": "code",
      "metadata": {
        "id": "majK6y9Ejgbc"
      },
      "source": [
        "# First, we will mount your Google Drive to be able to transfer files\n",
        "# You will be requested to authorize this Google Drive mounting\n",
        "# By entering an authorization code into an input box and then pressing Enter\n",
        "from google.colab import drive\n",
        "drive.mount(COLAB_GROMACS_GDRIVE_FS)\n",
        "\n",
        "print(\"\\n# Google Drive Filesystem:\")\n",
        "!df -h {COLAB_GROMACS_GDRIVE_FS}"
      ],
      "execution_count": null,
      "outputs": []
    },
    {
      "cell_type": "code",
      "source": [
        "# Then, we will ensure that the GROMACS folder exists in Google Drive\n",
        "os.makedirs(COLAB_GROMACS_GDRIVE_DIR, exist_ok=True)\n",
        "print(\"GROMACS folder present in Google Drive\")\n",
        "\n",
        "print(\"\\n# Google Drive GROMACS folder content:\")\n",
        "!ls -l {COLAB_GROMACS_GDRIVE_DIR}"
      ],
      "metadata": {
        "id": "6-xEadDJDKvJ"
      },
      "execution_count": null,
      "outputs": []
    },
    {
      "cell_type": "code",
      "metadata": {
        "id": "ERImL_mukPdk"
      },
      "source": [
        "# Lastly, we created directly in Google Drive GROMACS folder an archive of GROMACS software\n",
        "!tar -C {COLAB_GROMACS_INSTALL_PATH}/.. -zcvf {COLAB_GROMACS_GDRIVE_ARCHIVE} $(basename {COLAB_GROMACS_INSTALL_PATH})\n",
        "print(\"\\n# GROMACS successfully backed up!\")\n",
        "\n",
        "print(\"\\n# Google Drive GROMACS folder content:\")\n",
        "!ls -l {COLAB_GROMACS_GDRIVE_DIR}"
      ],
      "execution_count": null,
      "outputs": []
    }
  ]
}